{
 "cells": [
  {
   "cell_type": "markdown",
   "metadata": {},
   "source": [
    "# SVM classification\n",
    "SVM to create a model that directly predicts weather a customer is going to purchase a product or not based on the age and estimated salarly.\n",
    "\n",
    "## Import Libraries"
   ]
  },
  {
   "cell_type": "code",
   "execution_count": 1,
   "metadata": {},
   "outputs": [],
   "source": [
    "import pandas as pd\n",
    "import seaborn as sns"
   ]
  },
  {
   "cell_type": "markdown",
   "metadata": {},
   "source": [
    "## Get the Data"
   ]
  },
  {
   "cell_type": "code",
   "execution_count": 2,
   "metadata": {},
   "outputs": [],
   "source": [
    "df=pd.read_csv('train.csv')"
   ]
  },
  {
   "cell_type": "markdown",
   "metadata": {},
   "source": [
    "### Check head of the dataframe"
   ]
  },
  {
   "cell_type": "code",
   "execution_count": 3,
   "metadata": {},
   "outputs": [
    {
     "data": {
      "text/html": [
       "<div>\n",
       "<style scoped>\n",
       "    .dataframe tbody tr th:only-of-type {\n",
       "        vertical-align: middle;\n",
       "    }\n",
       "\n",
       "    .dataframe tbody tr th {\n",
       "        vertical-align: top;\n",
       "    }\n",
       "\n",
       "    .dataframe thead th {\n",
       "        text-align: right;\n",
       "    }\n",
       "</style>\n",
       "<table border=\"1\" class=\"dataframe\">\n",
       "  <thead>\n",
       "    <tr style=\"text-align: right;\">\n",
       "      <th></th>\n",
       "      <th>Unnamed: 0</th>\n",
       "      <th>Age</th>\n",
       "      <th>EstimatedSalary</th>\n",
       "      <th>Target</th>\n",
       "    </tr>\n",
       "  </thead>\n",
       "  <tbody>\n",
       "    <tr>\n",
       "      <th>0</th>\n",
       "      <td>40</td>\n",
       "      <td>-1.017692</td>\n",
       "      <td>-1.548776</td>\n",
       "      <td>0</td>\n",
       "    </tr>\n",
       "    <tr>\n",
       "      <th>1</th>\n",
       "      <td>240</td>\n",
       "      <td>0.415005</td>\n",
       "      <td>2.327385</td>\n",
       "      <td>1</td>\n",
       "    </tr>\n",
       "    <tr>\n",
       "      <th>2</th>\n",
       "      <td>196</td>\n",
       "      <td>-0.731153</td>\n",
       "      <td>0.271845</td>\n",
       "      <td>0</td>\n",
       "    </tr>\n",
       "    <tr>\n",
       "      <th>3</th>\n",
       "      <td>294</td>\n",
       "      <td>-0.253587</td>\n",
       "      <td>-0.374182</td>\n",
       "      <td>0</td>\n",
       "    </tr>\n",
       "    <tr>\n",
       "      <th>4</th>\n",
       "      <td>306</td>\n",
       "      <td>1.274623</td>\n",
       "      <td>1.886912</td>\n",
       "      <td>0</td>\n",
       "    </tr>\n",
       "  </tbody>\n",
       "</table>\n",
       "</div>"
      ],
      "text/plain": [
       "   Unnamed: 0       Age  EstimatedSalary  Target\n",
       "0          40 -1.017692        -1.548776       0\n",
       "1         240  0.415005         2.327385       1\n",
       "2         196 -0.731153         0.271845       0\n",
       "3         294 -0.253587        -0.374182       0\n",
       "4         306  1.274623         1.886912       0"
      ]
     },
     "execution_count": 3,
     "metadata": {},
     "output_type": "execute_result"
    }
   ],
   "source": [
    "df.head()"
   ]
  },
  {
   "cell_type": "code",
   "execution_count": 4,
   "metadata": {},
   "outputs": [],
   "source": [
    "df.drop('Unnamed: 0',axis=1,inplace=True)"
   ]
  },
  {
   "cell_type": "code",
   "execution_count": 5,
   "metadata": {},
   "outputs": [
    {
     "data": {
      "text/html": [
       "<div>\n",
       "<style scoped>\n",
       "    .dataframe tbody tr th:only-of-type {\n",
       "        vertical-align: middle;\n",
       "    }\n",
       "\n",
       "    .dataframe tbody tr th {\n",
       "        vertical-align: top;\n",
       "    }\n",
       "\n",
       "    .dataframe thead th {\n",
       "        text-align: right;\n",
       "    }\n",
       "</style>\n",
       "<table border=\"1\" class=\"dataframe\">\n",
       "  <thead>\n",
       "    <tr style=\"text-align: right;\">\n",
       "      <th></th>\n",
       "      <th>Age</th>\n",
       "      <th>EstimatedSalary</th>\n",
       "      <th>Target</th>\n",
       "    </tr>\n",
       "  </thead>\n",
       "  <tbody>\n",
       "    <tr>\n",
       "      <th>0</th>\n",
       "      <td>-1.017692</td>\n",
       "      <td>-1.548776</td>\n",
       "      <td>0</td>\n",
       "    </tr>\n",
       "    <tr>\n",
       "      <th>1</th>\n",
       "      <td>0.415005</td>\n",
       "      <td>2.327385</td>\n",
       "      <td>1</td>\n",
       "    </tr>\n",
       "  </tbody>\n",
       "</table>\n",
       "</div>"
      ],
      "text/plain": [
       "        Age  EstimatedSalary  Target\n",
       "0 -1.017692        -1.548776       0\n",
       "1  0.415005         2.327385       1"
      ]
     },
     "execution_count": 5,
     "metadata": {},
     "output_type": "execute_result"
    }
   ],
   "source": [
    "df.head(2)"
   ]
  },
  {
   "cell_type": "markdown",
   "metadata": {},
   "source": [
    "## Check for null values\n"
   ]
  },
  {
   "cell_type": "code",
   "execution_count": 6,
   "metadata": {},
   "outputs": [
    {
     "data": {
      "text/plain": [
       "<matplotlib.axes._subplots.AxesSubplot at 0x1b585a1f7b8>"
      ]
     },
     "execution_count": 6,
     "metadata": {},
     "output_type": "execute_result"
    },
    {
     "data": {
      "image/png": "[encoded data removed]",
      "text/plain": [
       "<Figure size 432x288 with 2 Axes>"
      ]
     },
     "metadata": {
      "needs_background": "light"
     },
     "output_type": "display_data"
    }
   ],
   "source": [
    "sns.heatmap(df.isnull())"
   ]
  },
  {
   "cell_type": "markdown",
   "metadata": {},
   "source": [
    "**So in this dataset no null values are present**"
   ]
  },
  {
   "cell_type": "markdown",
   "metadata": {},
   "source": [
    "## Check correlation"
   ]
  },
  {
   "cell_type": "code",
   "execution_count": 7,
   "metadata": {},
   "outputs": [
    {
     "data": {
      "text/plain": [
       "<matplotlib.axes._subplots.AxesSubplot at 0x1b5861b10b8>"
      ]
     },
     "execution_count": 7,
     "metadata": {},
     "output_type": "execute_result"
    },
    {
     "data": {
      "image/png": "[encoded data removed]",
      "text/plain": [
       "<Figure size 432x288 with 2 Axes>"
      ]
     },
     "metadata": {
      "needs_background": "light"
     },
     "output_type": "display_data"
    }
   ],
   "source": [
    "sns.heatmap(df.corr(),cmap='coolwarm')"
   ]
  },
  {
   "cell_type": "markdown",
   "metadata": {},
   "source": [
    "## Standardize the Variable\n",
    "\n",
    "Any variables that are on a large scale will have a much larger effect on the distance between the observations, and hence on the SVM classifier, than variables that are on a small scale."
   ]
  },
  {
   "cell_type": "code",
   "execution_count": 8,
   "metadata": {},
   "outputs": [],
   "source": [
    "from sklearn.preprocessing import StandardScaler"
   ]
  },
  {
   "cell_type": "code",
   "execution_count": 9,
   "metadata": {},
   "outputs": [],
   "source": [
    "sc=StandardScaler()"
   ]
  },
  {
   "cell_type": "code",
   "execution_count": 10,
   "metadata": {},
   "outputs": [],
   "source": [
    "scaled_array =  sc.fit_transform(df.drop('Target',axis=1))"
   ]
  },
  {
   "cell_type": "code",
   "execution_count": 11,
   "metadata": {},
   "outputs": [
    {
     "data": {
      "text/plain": [
       "array([[-1.07327145, -1.56009844],\n",
       "       [ 0.3974431 ,  2.24115664],\n",
       "       [-0.77912854,  0.22533955],\n",
       "       [-0.28889036, -0.40820296],\n",
       "       [ 1.27987182,  1.80919584],\n",
       "       [ 0.29939546, -0.00503954],\n",
       "       [-1.66155727,  0.48451604],\n",
       "       [-0.97522381, -1.12813764],\n",
       "       [ 0.10330019,  0.11015001],\n",
       "       [ 0.98572892,  2.01077755],\n",
       "       [ 0.3974431 ,  0.25413694],\n",
       "       [-0.77912854,  0.51331342],\n",
       "       [ 1.4759671 ,  2.06837232],\n",
       "       [ 0.88768128, -0.60978467],\n",
       "       [ 2.16230055, -0.84016377],\n",
       "       [ 1.08377655,  0.08135262],\n",
       "       [-0.28889036,  0.02375784],\n",
       "       [-1.46546199, -1.47370628],\n",
       "       [ 0.78963364,  1.31964026],\n",
       "       [ 0.29939546,  0.02375784],\n",
       "       [ 1.77011001,  0.94527423],\n",
       "       [ 0.98572892,  0.08135262],\n",
       "       [-1.85765254,  0.13894739],\n",
       "       [ 0.98572892, -1.2145298 ],\n",
       "       [ 0.78963364,  0.71489513],\n",
       "       [-1.66155727, -0.0914317 ],\n",
       "       [ 0.20134782, -0.40820296],\n",
       "       [-1.17131908, -1.12813764],\n",
       "       [-0.28889036, -0.92655593],\n",
       "       [-0.38693799, -1.32971934],\n",
       "       [-0.28889036,  0.05255523],\n",
       "       [ 0.00525255,  0.25413694],\n",
       "       [-0.48498563, -1.15693502],\n",
       "       [ 0.10330019,  1.80919584],\n",
       "       [ 2.16230055, -0.72497422],\n",
       "       [-1.36741436, -1.50250367],\n",
       "       [-0.48498563,  1.20445071],\n",
       "       [-0.19084272, -1.09934025],\n",
       "       [-0.97522381, -0.9841507 ],\n",
       "       [ 1.67206237,  1.55001936],\n",
       "       [ 0.29939546,  0.02375784],\n",
       "       [ 1.37791946,  2.26995403],\n",
       "       [-1.85765254,  0.39812388],\n",
       "       [-1.36741436, -0.37940557],\n",
       "       [ 0.3974431 , -0.03383693],\n",
       "       [ 0.00525255, -0.17782386],\n",
       "       [-0.28889036,  0.22533955],\n",
       "       [-0.19084272,  0.11015001],\n",
       "       [-1.26936672,  0.22533955],\n",
       "       [ 0.00525255, -0.00503954],\n",
       "       [-0.97522381,  1.49242458],\n",
       "       [-0.97522381, -0.78256899],\n",
       "       [ 0.29939546, -0.35060819],\n",
       "       [ 0.29939546, -0.5521899 ],\n",
       "       [ 0.59353837, -0.92655593],\n",
       "       [-0.97522381,  0.45571865],\n",
       "       [-1.17131908,  0.25413694],\n",
       "       [ 1.57401473, -1.30092196],\n",
       "       [-1.56350963,  0.28293433],\n",
       "       [-0.77912854, -1.61769321],\n",
       "       [ 0.3974431 , -0.49459512],\n",
       "       [ 0.88768128, -0.81136638],\n",
       "       [ 1.08377655, -1.01294809],\n",
       "       [ 1.37791946,  0.54211081],\n",
       "       [ 0.69158601, -1.41611151],\n",
       "       [-0.28889036, -0.35060819],\n",
       "       [ 0.20134782, -0.69617683],\n",
       "       [-0.09279508, -0.26421603],\n",
       "       [-0.28889036, -0.78256899],\n",
       "       [ 0.49549073,  1.78039845],\n",
       "       [-0.09279508,  0.25413694],\n",
       "       [ 1.08377655, -1.24332718],\n",
       "       [-1.95570018, -0.0914317 ],\n",
       "       [ 1.96620528,  2.09716971],\n",
       "       [-0.38693799,  1.17565332],\n",
       "       [-0.38693799,  0.02375784],\n",
       "       [-1.56350963, -1.53130105],\n",
       "       [ 0.98572892,  0.54211081],\n",
       "       [ 0.78963364,  0.22533955],\n",
       "       [-0.09279508,  2.15476448],\n",
       "       [-0.28889036,  0.11015001],\n",
       "       [-0.28889036,  0.11015001],\n",
       "       [-0.48498563,  2.24115664],\n",
       "       [-0.6810809 , -1.61769321],\n",
       "       [ 0.20134782,  2.03957493],\n",
       "       [-1.07327145,  0.36932649],\n",
       "       [-1.7596049 , -1.38731412],\n",
       "       [-0.58303327,  0.83008468],\n",
       "       [-1.07327145,  0.54211081],\n",
       "       [ 0.98572892, -0.86896115],\n",
       "       [ 0.78963364, -0.86896115],\n",
       "       [-0.58303327,  1.83799323],\n",
       "       [ 0.78963364, -1.38731412],\n",
       "       [-1.17131908,  0.25413694],\n",
       "       [ 0.88768128, -0.69617683],\n",
       "       [-0.87717618, -0.69617683],\n",
       "       [ 1.37791946, -0.95535331],\n",
       "       [-1.17131908, -1.04174547],\n",
       "       [-0.48498563, -1.24332718],\n",
       "       [ 1.08377655,  0.42692126],\n",
       "       [-0.19084272, -0.23541864],\n",
       "       [ 0.98572892, -1.18573241],\n",
       "       [ 0.88768128, -1.18573241],\n",
       "       [ 2.06425292,  0.48451604],\n",
       "       [-1.17131908, -0.81136638],\n",
       "       [ 2.16230055, -1.07054286],\n",
       "       [-1.46546199, -0.14902648],\n",
       "       [-0.6810809 , -1.53130105],\n",
       "       [-0.09279508,  0.08135262],\n",
       "       [ 0.98572892,  1.72280368],\n",
       "       [-0.09279508,  2.09716971],\n",
       "       [-0.19084272, -0.49459512],\n",
       "       [ 0.29939546,  0.02375784],\n",
       "       [-0.58303327,  1.31964026],\n",
       "       [ 2.06425292,  1.69400629],\n",
       "       [ 0.29939546,  0.02375784],\n",
       "       [-1.46546199, -0.66737944],\n",
       "       [-0.38693799,  1.26204549],\n",
       "       [-1.07327145, -0.37940557],\n",
       "       [-1.95570018, -0.5521899 ],\n",
       "       [-0.28889036, -1.47370628],\n",
       "       [-0.58303327, -1.53130105],\n",
       "       [-1.7596049 ,  0.31173171],\n",
       "       [ 0.88768128, -1.38731412],\n",
       "       [ 0.00525255,  1.20445071],\n",
       "       [-0.77912854, -1.56009844],\n",
       "       [ 0.29939546, -0.58098728],\n",
       "       [ 0.98572892, -1.09934025],\n",
       "       [ 1.86815764,  0.08135262],\n",
       "       [-1.36741436,  0.36932649],\n",
       "       [ 1.86815764, -0.3218108 ],\n",
       "       [ 0.98572892, -1.09934025],\n",
       "       [ 1.96620528,  0.85888207],\n",
       "       [-0.77912854,  1.83799323],\n",
       "       [ 0.88768128, -1.07054286],\n",
       "       [ 0.3974431 , -0.49459512],\n",
       "       [ 0.3974431 , -0.20662125],\n",
       "       [ 0.78963364, -0.35060819],\n",
       "       [ 0.29939546,  0.22533955],\n",
       "       [ 0.69158601,  1.72280368],\n",
       "       [ 0.20134782, -0.40820296],\n",
       "       [ 0.98572892, -1.04174547],\n",
       "       [-0.48498563, -0.3218108 ],\n",
       "       [-0.6810809 ,  0.13894739],\n",
       "       [-1.17131908, -1.18573241],\n",
       "       [-0.77912854,  1.03166639],\n",
       "       [-0.97522381,  0.39812388],\n",
       "       [ 1.4759671 ,  0.94527423],\n",
       "       [-0.77912854,  0.45571865],\n",
       "       [-1.95570018, -0.78256899],\n",
       "       [ 1.18182419, -1.47370628],\n",
       "       [-1.56350963, -0.46579773],\n",
       "       [-1.17131908, -1.58889583],\n",
       "       [-0.48498563, -0.81136638],\n",
       "       [-1.17131908, -1.56009844],\n",
       "       [-0.09279508,  0.02375784],\n",
       "       [ 1.37791946, -1.44490889],\n",
       "       [ 0.10330019, -0.84016377],\n",
       "       [-0.87717618,  0.25413694],\n",
       "       [ 0.88768128,  1.03166639],\n",
       "       [ 0.78963364, -1.12813764],\n",
       "       [-0.19084272, -0.5521899 ],\n",
       "       [-1.17131908,  0.36932649],\n",
       "       [-0.28889036, -0.95535331],\n",
       "       [ 0.88768128,  0.97407162],\n",
       "       [ 0.88768128,  2.09716971],\n",
       "       [ 0.29939546, -0.5521899 ],\n",
       "       [ 0.10330019,  1.002869  ],\n",
       "       [-1.26936672,  0.54211081],\n",
       "       [-0.77912854, -0.26421603],\n",
       "       [-0.6810809 ,  1.34843765],\n",
       "       [ 1.37791946,  1.2332481 ],\n",
       "       [ 0.20134782, -0.35060819],\n",
       "       [-1.17131908, -1.61769321],\n",
       "       [-1.7596049 ,  0.31173171],\n",
       "       [ 0.20134782, -0.29301341],\n",
       "       [-1.07327145, -0.40820296],\n",
       "       [ 0.49549073,  1.6652089 ],\n",
       "       [-1.26936672,  0.25413694],\n",
       "       [ 0.20134782,  0.11015001],\n",
       "       [ 0.3974431 ,  1.06046378],\n",
       "       [-0.58303327,  2.26995403],\n",
       "       [ 0.69158601, -0.7537716 ],\n",
       "       [-0.38693799, -0.81136638],\n",
       "       [-1.17131908, -0.5521899 ],\n",
       "       [-0.87717618,  0.3405291 ],\n",
       "       [-0.28889036, -1.38731412],\n",
       "       [-0.58303327,  1.40603242],\n",
       "       [-0.28889036, -0.3218108 ],\n",
       "       [ 0.10330019,  0.71489513],\n",
       "       [ 0.29939546, -0.23541864],\n",
       "       [-0.28889036, -1.32971934],\n",
       "       [ 1.77011001, -0.3218108 ],\n",
       "       [-0.09279508, -0.52339251],\n",
       "       [-0.6810809 ,  0.51331342],\n",
       "       [ 0.78963364,  0.08135262],\n",
       "       [-0.58303327, -1.53130105],\n",
       "       [ 0.10330019, -0.00503954],\n",
       "       [-0.87717618,  0.11015001],\n",
       "       [-0.6810809 , -0.00503954],\n",
       "       [ 1.27987182,  2.15476448],\n",
       "       [ 0.00525255, -0.46579773],\n",
       "       [-0.19084272,  2.09716971],\n",
       "       [-0.97522381,  0.36932649],\n",
       "       [-0.19084272, -0.3218108 ],\n",
       "       [-1.26936672,  0.45571865],\n",
       "       [ 1.86815764, -1.30092196],\n",
       "       [-0.19084272, -0.60978467],\n",
       "       [ 1.08377655,  0.48451604],\n",
       "       [ 0.10330019, -0.35060819],\n",
       "       [-0.09279508,  0.19654217],\n",
       "       [-0.28889036, -0.46579773],\n",
       "       [ 0.20134782,  0.02375784],\n",
       "       [-0.28889036,  0.74369252],\n",
       "       [-0.09279508,  0.62850297],\n",
       "       [-1.56350963, -0.23541864],\n",
       "       [-0.28889036,  2.18356187],\n",
       "       [-0.19084272,  0.80128729],\n",
       "       [-1.85765254, -1.44490889],\n",
       "       [ 1.86815764,  1.46362719],\n",
       "       [-1.17131908,  0.42692126],\n",
       "       [ 0.98572892,  1.92438539],\n",
       "       [ 1.08377655, -0.92655593],\n",
       "       [-0.09279508,  0.11015001],\n",
       "       [-1.26936672, -1.41611151],\n",
       "       [ 0.10330019,  0.22533955],\n",
       "       [ 0.00525255, -0.60978467],\n",
       "       [ 1.77011001,  1.78039845],\n",
       "       [ 2.16230055, -0.84016377],\n",
       "       [ 0.00525255, -0.29301341],\n",
       "       [-0.28889036, -0.60978467],\n",
       "       [-0.6810809 , -0.0914317 ],\n",
       "       [-0.87717618, -1.24332718],\n",
       "       [-1.7596049 ,  0.42692126],\n",
       "       [ 0.98572892,  1.80919584],\n",
       "       [ 0.78963364, -1.41611151],\n",
       "       [ 1.57401473,  0.94527423],\n",
       "       [-0.09279508, -0.40820296],\n",
       "       [ 2.16230055,  0.88767945],\n",
       "       [-0.19084272,  1.55001936],\n",
       "       [ 2.16230055,  1.06046378],\n",
       "       [ 0.69158601, -1.12813764],\n",
       "       [ 1.08377655,  2.01077755],\n",
       "       [-0.6810809 , -0.14902648],\n",
       "       [-0.97522381, -0.35060819],\n",
       "       [-0.77912854,  0.25413694],\n",
       "       [ 0.98572892,  1.37723503],\n",
       "       [ 0.3974431 , -0.52339251],\n",
       "       [ 0.3974431 , -0.17782386],\n",
       "       [ 0.78963364,  0.31173171],\n",
       "       [ 0.20134782, -0.3218108 ],\n",
       "       [-1.46546199, -0.23541864],\n",
       "       [-0.09279508,  0.16774478],\n",
       "       [ 1.96620528, -0.95535331],\n",
       "       [ 1.08377655, -0.17782386],\n",
       "       [ 1.08377655,  0.51331342],\n",
       "       [-1.66155727,  0.02375784],\n",
       "       [-0.09279508,  1.895588  ],\n",
       "       [-0.48498563, -0.06263432],\n",
       "       [ 1.57401473,  1.06046378],\n",
       "       [ 0.69158601,  0.22533955],\n",
       "       [ 0.3974431 ,  0.05255523],\n",
       "       [ 0.3974431 ,  0.54211081],\n",
       "       [-0.28889036, -0.69617683],\n",
       "       [-0.58303327,  1.31964026],\n",
       "       [-0.28889036, -1.41611151],\n",
       "       [-1.17131908,  0.02375784],\n",
       "       [-0.09279508, -0.5521899 ],\n",
       "       [ 0.88768128, -0.58098728],\n",
       "       [ 1.4759671 ,  0.02375784],\n",
       "       [ 0.20134782, -0.40820296],\n",
       "       [-1.36741436, -0.46579773],\n",
       "       [ 1.18182419,  0.48451604],\n",
       "       [-0.38693799, -0.81136638],\n",
       "       [ 0.78963364,  0.48451604],\n",
       "       [-1.85765254, -1.50250367],\n",
       "       [ 0.29939546, -0.3218108 ],\n",
       "       [-0.28889036, -0.17782386],\n",
       "       [-0.28889036,  1.06046378],\n",
       "       [ 0.00525255, -0.29301341]])"
      ]
     },
     "execution_count": 11,
     "metadata": {},
     "output_type": "execute_result"
    }
   ],
   "source": [
    "scaled_array"
   ]
  },
  {
   "cell_type": "code",
   "execution_count": 12,
   "metadata": {},
   "outputs": [],
   "source": [
    "x = pd.DataFrame(data=scaled_array,columns=df.columns[:-1])"
   ]
  },
  {
   "cell_type": "code",
   "execution_count": 13,
   "metadata": {},
   "outputs": [
    {
     "data": {
      "text/html": [
       "<div>\n",
       "<style scoped>\n",
       "    .dataframe tbody tr th:only-of-type {\n",
       "        vertical-align: middle;\n",
       "    }\n",
       "\n",
       "    .dataframe tbody tr th {\n",
       "        vertical-align: top;\n",
       "    }\n",
       "\n",
       "    .dataframe thead th {\n",
       "        text-align: right;\n",
       "    }\n",
       "</style>\n",
       "<table border=\"1\" class=\"dataframe\">\n",
       "  <thead>\n",
       "    <tr style=\"text-align: right;\">\n",
       "      <th></th>\n",
       "      <th>Age</th>\n",
       "      <th>EstimatedSalary</th>\n",
       "    </tr>\n",
       "  </thead>\n",
       "  <tbody>\n",
       "    <tr>\n",
       "      <th>0</th>\n",
       "      <td>-1.073271</td>\n",
       "      <td>-1.560098</td>\n",
       "    </tr>\n",
       "    <tr>\n",
       "      <th>1</th>\n",
       "      <td>0.397443</td>\n",
       "      <td>2.241157</td>\n",
       "    </tr>\n",
       "    <tr>\n",
       "      <th>2</th>\n",
       "      <td>-0.779129</td>\n",
       "      <td>0.225340</td>\n",
       "    </tr>\n",
       "    <tr>\n",
       "      <th>3</th>\n",
       "      <td>-0.288890</td>\n",
       "      <td>-0.408203</td>\n",
       "    </tr>\n",
       "    <tr>\n",
       "      <th>4</th>\n",
       "      <td>1.279872</td>\n",
       "      <td>1.809196</td>\n",
       "    </tr>\n",
       "  </tbody>\n",
       "</table>\n",
       "</div>"
      ],
      "text/plain": [
       "        Age  EstimatedSalary\n",
       "0 -1.073271        -1.560098\n",
       "1  0.397443         2.241157\n",
       "2 -0.779129         0.225340\n",
       "3 -0.288890        -0.408203\n",
       "4  1.279872         1.809196"
      ]
     },
     "execution_count": 13,
     "metadata": {},
     "output_type": "execute_result"
    }
   ],
   "source": [
    "x.head()"
   ]
  },
  {
   "cell_type": "code",
   "execution_count": 14,
   "metadata": {},
   "outputs": [],
   "source": [
    "y=df['Target']"
   ]
  },
  {
   "cell_type": "code",
   "execution_count": 15,
   "metadata": {},
   "outputs": [
    {
     "data": {
      "text/plain": [
       "0    0\n",
       "1    1\n",
       "2    0\n",
       "3    0\n",
       "4    0\n",
       "Name: Target, dtype: int64"
      ]
     },
     "execution_count": 15,
     "metadata": {},
     "output_type": "execute_result"
    }
   ],
   "source": [
    "y.head()"
   ]
  },
  {
   "cell_type": "markdown",
   "metadata": {},
   "source": [
    "# Building a SVM model\n",
    "\n",
    "Splitting data into a training set and test set.\n",
    "\n",
    "## Train Test Split"
   ]
  },
  {
   "cell_type": "code",
   "execution_count": 16,
   "metadata": {},
   "outputs": [],
   "source": [
    "from sklearn.model_selection import train_test_split"
   ]
  },
  {
   "cell_type": "code",
   "execution_count": 17,
   "metadata": {},
   "outputs": [],
   "source": [
    "x_train,x_test,y_train,y_test=train_test_split(x,y)"
   ]
  },
  {
   "cell_type": "code",
   "execution_count": 18,
   "metadata": {},
   "outputs": [
    {
     "data": {
      "text/plain": [
       "(210, 2)"
      ]
     },
     "execution_count": 18,
     "metadata": {},
     "output_type": "execute_result"
    }
   ],
   "source": [
    "x_train.shape"
   ]
  },
  {
   "cell_type": "code",
   "execution_count": 19,
   "metadata": {},
   "outputs": [
    {
     "data": {
      "text/plain": [
       "(210,)"
      ]
     },
     "execution_count": 19,
     "metadata": {},
     "output_type": "execute_result"
    }
   ],
   "source": [
    "y_train.shape"
   ]
  },
  {
   "cell_type": "code",
   "execution_count": 20,
   "metadata": {},
   "outputs": [
    {
     "data": {
      "text/plain": [
       "(70, 2)"
      ]
     },
     "execution_count": 20,
     "metadata": {},
     "output_type": "execute_result"
    }
   ],
   "source": [
    "x_test.shape"
   ]
  },
  {
   "cell_type": "code",
   "execution_count": 21,
   "metadata": {},
   "outputs": [
    {
     "data": {
      "text/plain": [
       "(70,)"
      ]
     },
     "execution_count": 21,
     "metadata": {},
     "output_type": "execute_result"
    }
   ],
   "source": [
    "y_test.shape"
   ]
  },
  {
   "cell_type": "code",
   "execution_count": 22,
   "metadata": {},
   "outputs": [
    {
     "data": {
      "text/plain": [
       "<matplotlib.axes._subplots.AxesSubplot at 0x1b587d9ac18>"
      ]
     },
     "execution_count": 22,
     "metadata": {},
     "output_type": "execute_result"
    },
    {
     "data": {
      "image/png": "[encoded data removed]",
      "text/plain": [
       "<Figure size 432x288 with 1 Axes>"
      ]
     },
     "metadata": {
      "needs_background": "light"
     },
     "output_type": "display_data"
    }
   ],
   "source": [
    "sns.scatterplot(x='EstimatedSalary',y='Age',data=df,hue='Target')"
   ]
  },
  {
   "cell_type": "markdown",
   "metadata": {},
   "source": [
    "## Model Training and Predictions"
   ]
  },
  {
   "cell_type": "code",
   "execution_count": 23,
   "metadata": {},
   "outputs": [],
   "source": [
    "from sklearn.svm import SVC "
   ]
  },
  {
   "cell_type": "code",
   "execution_count": 24,
   "metadata": {},
   "outputs": [],
   "source": [
    "svm=SVC()"
   ]
  },
  {
   "cell_type": "code",
   "execution_count": 25,
   "metadata": {},
   "outputs": [
    {
     "name": "stderr",
     "output_type": "stream",
     "text": [
      "C:\\ProgramData\\Anaconda3\\lib\\site-packages\\sklearn\\svm\\base.py:196: FutureWarning: The default value of gamma will change from 'auto' to 'scale' in version 0.22 to account better for unscaled features. Set gamma explicitly to 'auto' or 'scale' to avoid this warning.\n",
      "  \"avoid this warning.\", FutureWarning)\n"
     ]
    },
    {
     "data": {
      "text/plain": [
       "SVC(C=1.0, cache_size=200, class_weight=None, coef0=0.0,\n",
       "  decision_function_shape='ovr', degree=3, gamma='auto_deprecated',\n",
       "  kernel='rbf', max_iter=-1, probability=False, random_state=None,\n",
       "  shrinking=True, tol=0.001, verbose=False)"
      ]
     },
     "execution_count": 25,
     "metadata": {},
     "output_type": "execute_result"
    }
   ],
   "source": [
    "svm.fit(x_train,y_train)"
   ]
  },
  {
   "cell_type": "code",
   "execution_count": 26,
   "metadata": {},
   "outputs": [],
   "source": [
    "ypred=svm.predict(x_test)"
   ]
  },
  {
   "cell_type": "code",
   "execution_count": 27,
   "metadata": {},
   "outputs": [
    {
     "data": {
      "text/plain": [
       "array([0, 0, 0, 0, 0, 1, 1, 0, 1, 0, 1, 1, 0, 0, 1, 0, 0, 1, 0, 1, 0, 0,\n",
       "       1, 0, 0, 0, 0, 0, 1, 0, 0, 0, 1, 0, 1, 0, 0, 0, 1, 0, 1, 1, 0, 0,\n",
       "       0, 1, 0, 1, 1, 1, 0, 0, 1, 1, 0, 1, 1, 1, 1, 0, 1, 0, 1, 0, 1, 1,\n",
       "       0, 0, 0, 0], dtype=int64)"
      ]
     },
     "execution_count": 27,
     "metadata": {},
     "output_type": "execute_result"
    }
   ],
   "source": [
    "ypred"
   ]
  },
  {
   "cell_type": "markdown",
   "metadata": {},
   "source": [
    "### Evalution of classification model.\n",
    "To evaluate classification model use confusion matrix,precision,recall,f1-score."
   ]
  },
  {
   "cell_type": "code",
   "execution_count": 28,
   "metadata": {},
   "outputs": [],
   "source": [
    "from sklearn.metrics import confusion_matrix,classification_report"
   ]
  },
  {
   "cell_type": "code",
   "execution_count": 29,
   "metadata": {},
   "outputs": [],
   "source": [
    "cf=confusion_matrix(y_test,ypred)"
   ]
  },
  {
   "cell_type": "code",
   "execution_count": 30,
   "metadata": {},
   "outputs": [
    {
     "data": {
      "text/plain": [
       "array([[40,  7],\n",
       "       [ 1, 22]], dtype=int64)"
      ]
     },
     "execution_count": 30,
     "metadata": {},
     "output_type": "execute_result"
    }
   ],
   "source": [
    "cf"
   ]
  },
  {
   "cell_type": "code",
   "execution_count": 31,
   "metadata": {},
   "outputs": [],
   "source": [
    "accuracy = (47+17)/(47+3+3+17)"
   ]
  },
  {
   "cell_type": "code",
   "execution_count": 32,
   "metadata": {},
   "outputs": [
    {
     "data": {
      "text/plain": [
       "0.9142857142857143"
      ]
     },
     "execution_count": 32,
     "metadata": {},
     "output_type": "execute_result"
    }
   ],
   "source": [
    "accuracy"
   ]
  },
  {
   "cell_type": "code",
   "execution_count": 33,
   "metadata": {},
   "outputs": [],
   "source": [
    "accuracy = (47+17)/x_test.shape[0]"
   ]
  },
  {
   "cell_type": "code",
   "execution_count": 34,
   "metadata": {},
   "outputs": [
    {
     "data": {
      "text/plain": [
       "0.9142857142857143"
      ]
     },
     "execution_count": 34,
     "metadata": {},
     "output_type": "execute_result"
    }
   ],
   "source": [
    "accuracy"
   ]
  },
  {
   "cell_type": "code",
   "execution_count": 35,
   "metadata": {},
   "outputs": [
    {
     "name": "stdout",
     "output_type": "stream",
     "text": [
      "              precision    recall  f1-score   support\n",
      "\n",
      "           0       0.98      0.85      0.91        47\n",
      "           1       0.76      0.96      0.85        23\n",
      "\n",
      "   micro avg       0.89      0.89      0.89        70\n",
      "   macro avg       0.87      0.90      0.88        70\n",
      "weighted avg       0.90      0.89      0.89        70\n",
      "\n"
     ]
    }
   ],
   "source": [
    "print(classification_report(y_test,ypred))"
   ]
  },
  {
   "cell_type": "code",
   "execution_count": null,
   "metadata": {},
   "outputs": [],
   "source": []
  },
  {
   "cell_type": "code",
   "execution_count": null,
   "metadata": {},
   "outputs": [],
   "source": []
  }
 ],
 "metadata": {
  "kernelspec": {
   "display_name": "Python 3",
   "language": "python",
   "name": "python3"
  },
  "language_info": {
   "codemirror_mode": {
    "name": "ipython",
    "version": 3
   },
   "file_extension": ".py",
   "mimetype": "text/x-python",
   "name": "python",
   "nbconvert_exporter": "python",
   "pygments_lexer": "ipython3",
   "version": "3.7.1"
  }
 },
 "nbformat": 4,
 "nbformat_minor": 2
}
